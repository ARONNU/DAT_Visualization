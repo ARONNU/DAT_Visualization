{
  "cells": [
    {
      "cell_type": "markdown",
      "metadata": {
        "id": "WwjVBRr3wnwK"
      },
      "source": [
        "# Visualization with Seaborn\n",
        "\n"
      ]
    },
    {
      "cell_type": "markdown",
      "metadata": {
        "id": "ioAGThUDwnwO"
      },
      "source": [
        "## Import libraries"
      ]
    },
    {
      "cell_type": "code",
      "execution_count": null,
      "metadata": {
        "id": "_NskWyxwwnwQ"
      },
      "outputs": [],
      "source": [
        "import pandas as pd\n",
        "import seaborn as sns\n",
        "import matplotlib.pyplot as plt"
      ]
    },
    {
      "cell_type": "markdown",
      "metadata": {
        "id": "IDA8PtLywnwT"
      },
      "source": [
        "## Dataset 1: Data Science Salaries using Boxplot\n",
        "\n",
        "This dataset contains the salaries of various Jobs related to Data and their Salary. There are also additional information such as Job Type, Experience Level, Location, and Currency."
      ]
    },
    {
      "cell_type": "code",
      "execution_count": null,
      "metadata": {
        "id": "H4Nd1RnOwnwT"
      },
      "outputs": [],
      "source": [
        "df = pd.read_csv('datascience_salaries.csv')"
      ]
    },
    {
      "cell_type": "code",
      "execution_count": null,
      "metadata": {
        "id": "2SyCswNAwnwU",
        "outputId": "bbd67dcd-322f-41d5-f06f-b2b6bbaad334"
      },
      "outputs": [
        {
          "data": {
            "text/html": [
              "<div>\n",
              "<style scoped>\n",
              "    .dataframe tbody tr th:only-of-type {\n",
              "        vertical-align: middle;\n",
              "    }\n",
              "\n",
              "    .dataframe tbody tr th {\n",
              "        vertical-align: top;\n",
              "    }\n",
              "\n",
              "    .dataframe thead th {\n",
              "        text-align: right;\n",
              "    }\n",
              "</style>\n",
              "<table border=\"1\" class=\"dataframe\">\n",
              "  <thead>\n",
              "    <tr style=\"text-align: right;\">\n",
              "      <th></th>\n",
              "      <th>Unnamed: 0</th>\n",
              "      <th>job_title</th>\n",
              "      <th>job_type</th>\n",
              "      <th>experience_level</th>\n",
              "      <th>location</th>\n",
              "      <th>salary_currency</th>\n",
              "      <th>salary</th>\n",
              "    </tr>\n",
              "  </thead>\n",
              "  <tbody>\n",
              "    <tr>\n",
              "      <th>0</th>\n",
              "      <td>0</td>\n",
              "      <td>Data scientist</td>\n",
              "      <td>Full Time</td>\n",
              "      <td>Senior</td>\n",
              "      <td>New York City</td>\n",
              "      <td>USD</td>\n",
              "      <td>149000</td>\n",
              "    </tr>\n",
              "    <tr>\n",
              "      <th>1</th>\n",
              "      <td>2</td>\n",
              "      <td>Data scientist</td>\n",
              "      <td>Full Time</td>\n",
              "      <td>Senior</td>\n",
              "      <td>Boston</td>\n",
              "      <td>USD</td>\n",
              "      <td>120000</td>\n",
              "    </tr>\n",
              "    <tr>\n",
              "      <th>2</th>\n",
              "      <td>3</td>\n",
              "      <td>Data scientist</td>\n",
              "      <td>Full Time</td>\n",
              "      <td>Senior</td>\n",
              "      <td>London</td>\n",
              "      <td>USD</td>\n",
              "      <td>68000</td>\n",
              "    </tr>\n",
              "    <tr>\n",
              "      <th>3</th>\n",
              "      <td>4</td>\n",
              "      <td>Data scientist</td>\n",
              "      <td>Full Time</td>\n",
              "      <td>Senior</td>\n",
              "      <td>Boston</td>\n",
              "      <td>USD</td>\n",
              "      <td>120000</td>\n",
              "    </tr>\n",
              "    <tr>\n",
              "      <th>4</th>\n",
              "      <td>5</td>\n",
              "      <td>Data scientist</td>\n",
              "      <td>Full Time</td>\n",
              "      <td>Senior</td>\n",
              "      <td>New York City</td>\n",
              "      <td>USD</td>\n",
              "      <td>149000</td>\n",
              "    </tr>\n",
              "  </tbody>\n",
              "</table>\n",
              "</div>"
            ],
            "text/plain": [
              "   Unnamed: 0       job_title   job_type experience_level       location  \\\n",
              "0           0  Data scientist  Full Time           Senior  New York City   \n",
              "1           2  Data scientist  Full Time           Senior         Boston   \n",
              "2           3  Data scientist  Full Time           Senior         London   \n",
              "3           4  Data scientist  Full Time           Senior         Boston   \n",
              "4           5  Data scientist  Full Time           Senior  New York City   \n",
              "\n",
              "  salary_currency  salary  \n",
              "0             USD  149000  \n",
              "1             USD  120000  \n",
              "2             USD   68000  \n",
              "3             USD  120000  \n",
              "4             USD  149000  "
            ]
          },
          "execution_count": 3,
          "metadata": {},
          "output_type": "execute_result"
        }
      ],
      "source": [
        "df.head()"
      ]
    },
    {
      "cell_type": "code",
      "execution_count": null,
      "metadata": {
        "id": "uu08jaBIwnwW"
      },
      "outputs": [],
      "source": [
        "df.drop(columns=df.columns[0], axis=1, inplace=True)"
      ]
    },
    {
      "cell_type": "code",
      "execution_count": null,
      "metadata": {
        "id": "Qt0_NPu-wnwW",
        "outputId": "e2304105-8d3c-4f03-c87d-b02a76184f5e"
      },
      "outputs": [
        {
          "data": {
            "text/html": [
              "<div>\n",
              "<style scoped>\n",
              "    .dataframe tbody tr th:only-of-type {\n",
              "        vertical-align: middle;\n",
              "    }\n",
              "\n",
              "    .dataframe tbody tr th {\n",
              "        vertical-align: top;\n",
              "    }\n",
              "\n",
              "    .dataframe thead th {\n",
              "        text-align: right;\n",
              "    }\n",
              "</style>\n",
              "<table border=\"1\" class=\"dataframe\">\n",
              "  <thead>\n",
              "    <tr style=\"text-align: right;\">\n",
              "      <th></th>\n",
              "      <th>job_title</th>\n",
              "      <th>job_type</th>\n",
              "      <th>experience_level</th>\n",
              "      <th>location</th>\n",
              "      <th>salary_currency</th>\n",
              "      <th>salary</th>\n",
              "    </tr>\n",
              "  </thead>\n",
              "  <tbody>\n",
              "    <tr>\n",
              "      <th>0</th>\n",
              "      <td>Data scientist</td>\n",
              "      <td>Full Time</td>\n",
              "      <td>Senior</td>\n",
              "      <td>New York City</td>\n",
              "      <td>USD</td>\n",
              "      <td>149000</td>\n",
              "    </tr>\n",
              "    <tr>\n",
              "      <th>1</th>\n",
              "      <td>Data scientist</td>\n",
              "      <td>Full Time</td>\n",
              "      <td>Senior</td>\n",
              "      <td>Boston</td>\n",
              "      <td>USD</td>\n",
              "      <td>120000</td>\n",
              "    </tr>\n",
              "    <tr>\n",
              "      <th>2</th>\n",
              "      <td>Data scientist</td>\n",
              "      <td>Full Time</td>\n",
              "      <td>Senior</td>\n",
              "      <td>London</td>\n",
              "      <td>USD</td>\n",
              "      <td>68000</td>\n",
              "    </tr>\n",
              "    <tr>\n",
              "      <th>3</th>\n",
              "      <td>Data scientist</td>\n",
              "      <td>Full Time</td>\n",
              "      <td>Senior</td>\n",
              "      <td>Boston</td>\n",
              "      <td>USD</td>\n",
              "      <td>120000</td>\n",
              "    </tr>\n",
              "    <tr>\n",
              "      <th>4</th>\n",
              "      <td>Data scientist</td>\n",
              "      <td>Full Time</td>\n",
              "      <td>Senior</td>\n",
              "      <td>New York City</td>\n",
              "      <td>USD</td>\n",
              "      <td>149000</td>\n",
              "    </tr>\n",
              "  </tbody>\n",
              "</table>\n",
              "</div>"
            ],
            "text/plain": [
              "        job_title   job_type experience_level       location salary_currency  \\\n",
              "0  Data scientist  Full Time           Senior  New York City             USD   \n",
              "1  Data scientist  Full Time           Senior         Boston             USD   \n",
              "2  Data scientist  Full Time           Senior         London             USD   \n",
              "3  Data scientist  Full Time           Senior         Boston             USD   \n",
              "4  Data scientist  Full Time           Senior  New York City             USD   \n",
              "\n",
              "   salary  \n",
              "0  149000  \n",
              "1  120000  \n",
              "2   68000  \n",
              "3  120000  \n",
              "4  149000  "
            ]
          },
          "execution_count": 5,
          "metadata": {},
          "output_type": "execute_result"
        }
      ],
      "source": [
        "df.head()"
      ]
    },
    {
      "cell_type": "code",
      "execution_count": null,
      "metadata": {
        "id": "G7dLCwEAwnwX",
        "outputId": "900942ca-011d-4a97-d54a-9151988460da"
      },
      "outputs": [
        {
          "data": {
            "text/plain": [
              "job_title           0\n",
              "job_type            0\n",
              "experience_level    0\n",
              "location            0\n",
              "salary_currency     0\n",
              "salary              0\n",
              "dtype: int64"
            ]
          },
          "execution_count": 6,
          "metadata": {},
          "output_type": "execute_result"
        }
      ],
      "source": [
        "df.isnull().sum()"
      ]
    },
    {
      "cell_type": "code",
      "execution_count": null,
      "metadata": {
        "id": "Ne-9ePlHwnwX",
        "outputId": "35826de0-e69b-45b7-9f5a-ba2985c73312"
      },
      "outputs": [
        {
          "data": {
            "text/html": [
              "<div>\n",
              "<style scoped>\n",
              "    .dataframe tbody tr th:only-of-type {\n",
              "        vertical-align: middle;\n",
              "    }\n",
              "\n",
              "    .dataframe tbody tr th {\n",
              "        vertical-align: top;\n",
              "    }\n",
              "\n",
              "    .dataframe thead th {\n",
              "        text-align: right;\n",
              "    }\n",
              "</style>\n",
              "<table border=\"1\" class=\"dataframe\">\n",
              "  <thead>\n",
              "    <tr style=\"text-align: right;\">\n",
              "      <th></th>\n",
              "      <th>job_title</th>\n",
              "      <th>job_type</th>\n",
              "      <th>experience_level</th>\n",
              "      <th>location</th>\n",
              "      <th>salary_currency</th>\n",
              "      <th>salary</th>\n",
              "    </tr>\n",
              "  </thead>\n",
              "  <tbody>\n",
              "    <tr>\n",
              "      <th>62</th>\n",
              "      <td>Data scientist</td>\n",
              "      <td>Full Time</td>\n",
              "      <td>Entry</td>\n",
              "      <td>Paris</td>\n",
              "      <td>USD</td>\n",
              "      <td>36000</td>\n",
              "    </tr>\n",
              "    <tr>\n",
              "      <th>957</th>\n",
              "      <td>Machine learning</td>\n",
              "      <td>Full Time</td>\n",
              "      <td>Entry</td>\n",
              "      <td>Carquefou</td>\n",
              "      <td>USD</td>\n",
              "      <td>30000</td>\n",
              "    </tr>\n",
              "    <tr>\n",
              "      <th>558</th>\n",
              "      <td>Data analyst</td>\n",
              "      <td>Full Time</td>\n",
              "      <td>Executive</td>\n",
              "      <td>Bengaluru</td>\n",
              "      <td>USD</td>\n",
              "      <td>41000</td>\n",
              "    </tr>\n",
              "    <tr>\n",
              "      <th>1066</th>\n",
              "      <td>Machine learning</td>\n",
              "      <td>Full Time</td>\n",
              "      <td>Senior</td>\n",
              "      <td>Valencia</td>\n",
              "      <td>USD</td>\n",
              "      <td>68000</td>\n",
              "    </tr>\n",
              "    <tr>\n",
              "      <th>205</th>\n",
              "      <td>Data scientist</td>\n",
              "      <td>Full Time</td>\n",
              "      <td>Mid</td>\n",
              "      <td>København</td>\n",
              "      <td>USD</td>\n",
              "      <td>40000</td>\n",
              "    </tr>\n",
              "    <tr>\n",
              "      <th>347</th>\n",
              "      <td>Data scientist</td>\n",
              "      <td>Full Time</td>\n",
              "      <td>Senior</td>\n",
              "      <td>Seoul</td>\n",
              "      <td>USD</td>\n",
              "      <td>68000</td>\n",
              "    </tr>\n",
              "    <tr>\n",
              "      <th>835</th>\n",
              "      <td>Big data</td>\n",
              "      <td>Full Time</td>\n",
              "      <td>Senior</td>\n",
              "      <td>Bangkok</td>\n",
              "      <td>USD</td>\n",
              "      <td>46000</td>\n",
              "    </tr>\n",
              "    <tr>\n",
              "      <th>237</th>\n",
              "      <td>Data scientist</td>\n",
              "      <td>Full Time</td>\n",
              "      <td>Senior</td>\n",
              "      <td>Herndon</td>\n",
              "      <td>USD</td>\n",
              "      <td>122000</td>\n",
              "    </tr>\n",
              "    <tr>\n",
              "      <th>540</th>\n",
              "      <td>Data analyst</td>\n",
              "      <td>Full Time</td>\n",
              "      <td>Senior</td>\n",
              "      <td>Bangkok</td>\n",
              "      <td>USD</td>\n",
              "      <td>68000</td>\n",
              "    </tr>\n",
              "    <tr>\n",
              "      <th>776</th>\n",
              "      <td>Big data</td>\n",
              "      <td>Full Time</td>\n",
              "      <td>Senior</td>\n",
              "      <td>Tel Aviv</td>\n",
              "      <td>USD</td>\n",
              "      <td>30000</td>\n",
              "    </tr>\n",
              "  </tbody>\n",
              "</table>\n",
              "</div>"
            ],
            "text/plain": [
              "             job_title   job_type experience_level   location salary_currency  \\\n",
              "62      Data scientist  Full Time            Entry      Paris             USD   \n",
              "957   Machine learning  Full Time            Entry  Carquefou             USD   \n",
              "558       Data analyst  Full Time        Executive  Bengaluru             USD   \n",
              "1066  Machine learning  Full Time           Senior   Valencia             USD   \n",
              "205     Data scientist  Full Time              Mid  København             USD   \n",
              "347     Data scientist  Full Time           Senior      Seoul             USD   \n",
              "835           Big data  Full Time           Senior    Bangkok             USD   \n",
              "237     Data scientist  Full Time           Senior    Herndon             USD   \n",
              "540       Data analyst  Full Time           Senior    Bangkok             USD   \n",
              "776           Big data  Full Time           Senior   Tel Aviv             USD   \n",
              "\n",
              "      salary  \n",
              "62     36000  \n",
              "957    30000  \n",
              "558    41000  \n",
              "1066   68000  \n",
              "205    40000  \n",
              "347    68000  \n",
              "835    46000  \n",
              "237   122000  \n",
              "540    68000  \n",
              "776    30000  "
            ]
          },
          "execution_count": 7,
          "metadata": {},
          "output_type": "execute_result"
        }
      ],
      "source": [
        "# get 10 samples from dataset\n",
        "df.sample(10)\n"
      ]
    },
    {
      "cell_type": "code",
      "execution_count": null,
      "metadata": {
        "id": "solcykCHwnwY",
        "outputId": "0ccd9c2c-01a4-423b-9cb4-57c009f08d41"
      },
      "outputs": [
        {
          "data": {
            "text/plain": [
              "Data scientist      394\n",
              "Data analyst        368\n",
              "Machine learning    289\n",
              "Big data            101\n",
              "ML Ops               19\n",
              "Name: job_title, dtype: int64"
            ]
          },
          "execution_count": 8,
          "metadata": {},
          "output_type": "execute_result"
        }
      ],
      "source": [
        "df['job_title'].value_counts()"
      ]
    },
    {
      "cell_type": "code",
      "execution_count": null,
      "metadata": {
        "id": "R6CVOPmswnwZ",
        "outputId": "7bab6e61-b67f-438f-8863-e3d402297c64"
      },
      "outputs": [
        {
          "data": {
            "text/plain": [
              "Text(0, 0.5, 'Salary')"
            ]
          },
          "execution_count": 9,
          "metadata": {},
          "output_type": "execute_result"
        },
        {
          "data": {
            "image/png": "[encoded data removed]",
            "text/plain": [
              "<Figure size 864x432 with 1 Axes>"
            ]
          },
          "metadata": {
            "needs_background": "light"
          },
          "output_type": "display_data"
        }
      ],
      "source": [
        "plt.figure(figsize=(12, 6))\n",
        "sns.boxplot(x='job_title', y='salary', data=df)\n",
        "plt.title(\"Salary Distribution by Job Title\")\n",
        "plt.xlabel(\"Job Title\")\n",
        "plt.ylabel(\"Salary\")"
      ]
    },
    {
      "cell_type": "markdown",
      "metadata": {
        "id": "1zmMJ-qownwZ"
      },
      "source": [
        "### Mobile Legends: Bang Bang E-sports Heroes Stats using Relational Plots\n",
        "The Dataset contains the Base Stats of heroes in Mobile Legends until Version Patch 1.7.20 September 20, 2022."
      ]
    },
    {
      "cell_type": "code",
      "execution_count": null,
      "metadata": {
        "id": "ZkXrRYkownwZ",
        "outputId": "b5de4e87-978e-4475-b5fa-2dc4228e96bc"
      },
      "outputs": [
        {
          "data": {
            "text/html": [
              "<div>\n",
              "<style scoped>\n",
              "    .dataframe tbody tr th:only-of-type {\n",
              "        vertical-align: middle;\n",
              "    }\n",
              "\n",
              "    .dataframe tbody tr th {\n",
              "        vertical-align: top;\n",
              "    }\n",
              "\n",
              "    .dataframe thead th {\n",
              "        text-align: right;\n",
              "    }\n",
              "</style>\n",
              "<table border=\"1\" class=\"dataframe\">\n",
              "  <thead>\n",
              "    <tr style=\"text-align: right;\">\n",
              "      <th></th>\n",
              "      <th>Name</th>\n",
              "      <th>Primary_Role</th>\n",
              "      <th>Lane</th>\n",
              "      <th>Hp</th>\n",
              "      <th>Hp_Regen</th>\n",
              "      <th>Mana</th>\n",
              "      <th>Mana_Regen</th>\n",
              "      <th>Phy_Damage</th>\n",
              "      <th>Mag_Damage</th>\n",
              "      <th>Phy_Defence</th>\n",
              "      <th>Mag_Defence</th>\n",
              "      <th>Mov_Speed</th>\n",
              "      <th>Esport_Wins</th>\n",
              "      <th>Esport_Loss</th>\n",
              "    </tr>\n",
              "  </thead>\n",
              "  <tbody>\n",
              "    <tr>\n",
              "      <th>0</th>\n",
              "      <td>Aamon</td>\n",
              "      <td>Assassin</td>\n",
              "      <td>Jungler</td>\n",
              "      <td>2614</td>\n",
              "      <td>8.0</td>\n",
              "      <td>455</td>\n",
              "      <td>21.0</td>\n",
              "      <td>115</td>\n",
              "      <td>0</td>\n",
              "      <td>19</td>\n",
              "      <td>15</td>\n",
              "      <td>250</td>\n",
              "      <td>43</td>\n",
              "      <td>42</td>\n",
              "    </tr>\n",
              "    <tr>\n",
              "      <th>1</th>\n",
              "      <td>Akai</td>\n",
              "      <td>Tank</td>\n",
              "      <td>Support</td>\n",
              "      <td>2769</td>\n",
              "      <td>8.4</td>\n",
              "      <td>422</td>\n",
              "      <td>12.0</td>\n",
              "      <td>115</td>\n",
              "      <td>0</td>\n",
              "      <td>24</td>\n",
              "      <td>15</td>\n",
              "      <td>260</td>\n",
              "      <td>540</td>\n",
              "      <td>524</td>\n",
              "    </tr>\n",
              "    <tr>\n",
              "      <th>2</th>\n",
              "      <td>Aldous</td>\n",
              "      <td>Fighter</td>\n",
              "      <td>Top Lane</td>\n",
              "      <td>2718</td>\n",
              "      <td>9.8</td>\n",
              "      <td>405</td>\n",
              "      <td>18.0</td>\n",
              "      <td>129</td>\n",
              "      <td>0</td>\n",
              "      <td>21</td>\n",
              "      <td>15</td>\n",
              "      <td>260</td>\n",
              "      <td>95</td>\n",
              "      <td>92</td>\n",
              "    </tr>\n",
              "    <tr>\n",
              "      <th>3</th>\n",
              "      <td>Alice</td>\n",
              "      <td>Mage</td>\n",
              "      <td>Top Lane</td>\n",
              "      <td>2573</td>\n",
              "      <td>7.2</td>\n",
              "      <td>493</td>\n",
              "      <td>18.0</td>\n",
              "      <td>114</td>\n",
              "      <td>0</td>\n",
              "      <td>21</td>\n",
              "      <td>15</td>\n",
              "      <td>240</td>\n",
              "      <td>364</td>\n",
              "      <td>352</td>\n",
              "    </tr>\n",
              "    <tr>\n",
              "      <th>4</th>\n",
              "      <td>Alpha</td>\n",
              "      <td>Fighter</td>\n",
              "      <td>Top Lane</td>\n",
              "      <td>2646</td>\n",
              "      <td>7.8</td>\n",
              "      <td>453</td>\n",
              "      <td>31.0</td>\n",
              "      <td>121</td>\n",
              "      <td>0</td>\n",
              "      <td>25</td>\n",
              "      <td>15</td>\n",
              "      <td>260</td>\n",
              "      <td>24</td>\n",
              "      <td>33</td>\n",
              "    </tr>\n",
              "  </tbody>\n",
              "</table>\n",
              "</div>"
            ],
            "text/plain": [
              "     Name Primary_Role      Lane    Hp  Hp_Regen  Mana  Mana_Regen  \\\n",
              "0   Aamon     Assassin   Jungler  2614       8.0   455        21.0   \n",
              "1    Akai         Tank   Support  2769       8.4   422        12.0   \n",
              "2  Aldous      Fighter  Top Lane  2718       9.8   405        18.0   \n",
              "3   Alice         Mage  Top Lane  2573       7.2   493        18.0   \n",
              "4   Alpha      Fighter  Top Lane  2646       7.8   453        31.0   \n",
              "\n",
              "   Phy_Damage  Mag_Damage  Phy_Defence  Mag_Defence  Mov_Speed  Esport_Wins  \\\n",
              "0         115           0           19           15        250           43   \n",
              "1         115           0           24           15        260          540   \n",
              "2         129           0           21           15        260           95   \n",
              "3         114           0           21           15        240          364   \n",
              "4         121           0           25           15        260           24   \n",
              "\n",
              "   Esport_Loss  \n",
              "0           42  \n",
              "1          524  \n",
              "2           92  \n",
              "3          352  \n",
              "4           33  "
            ]
          },
          "execution_count": 10,
          "metadata": {},
          "output_type": "execute_result"
        }
      ],
      "source": [
        "df1 = pd.read_csv(\"ML_Heroes.csv\")\n",
        "df1.head()"
      ]
    },
    {
      "cell_type": "code",
      "execution_count": null,
      "metadata": {
        "id": "iM9LKmLwwnwa",
        "outputId": "cb904269-9815-4713-e8f1-995eeca218a5"
      },
      "outputs": [
        {
          "name": "stdout",
          "output_type": "stream",
          "text": [
            "<class 'pandas.core.frame.DataFrame'>\n",
            "RangeIndex: 114 entries, 0 to 113\n",
            "Data columns (total 14 columns):\n",
            " #   Column        Non-Null Count  Dtype  \n",
            "---  ------        --------------  -----  \n",
            " 0   Name          114 non-null    object \n",
            " 1   Primary_Role  114 non-null    object \n",
            " 2   Lane          114 non-null    object \n",
            " 3   Hp            114 non-null    int64  \n",
            " 4   Hp_Regen      114 non-null    float64\n",
            " 5   Mana          114 non-null    int64  \n",
            " 6   Mana_Regen    113 non-null    float64\n",
            " 7   Phy_Damage    114 non-null    int64  \n",
            " 8   Mag_Damage    114 non-null    int64  \n",
            " 9   Phy_Defence   114 non-null    int64  \n",
            " 10  Mag_Defence   114 non-null    int64  \n",
            " 11  Mov_Speed     114 non-null    int64  \n",
            " 12  Esport_Wins   114 non-null    int64  \n",
            " 13  Esport_Loss   114 non-null    int64  \n",
            "dtypes: float64(2), int64(9), object(3)\n",
            "memory usage: 12.6+ KB\n"
          ]
        }
      ],
      "source": [
        "df1.info()"
      ]
    },
    {
      "cell_type": "markdown",
      "metadata": {
        "id": "_ZUqds-ywnwa"
      },
      "source": [
        "A relational plot is used to see the relation of two numerical values, which in our case, the HP and Physical Damage. I added an additional parameter for a categorical variable \"Lane\" to see if their Lane also matters for having a high/low HP and Physical Damage"
      ]
    },
    {
      "cell_type": "code",
      "execution_count": null,
      "metadata": {
        "id": "5x_UFElIwnwa",
        "outputId": "ae1bd4c0-643d-4a5a-ddd4-c1800427ffac"
      },
      "outputs": [
        {
          "data": {
            "text/plain": [
              "Text(33.684227430555566, 0.5, 'Health Points')"
            ]
          },
          "execution_count": 12,
          "metadata": {},
          "output_type": "execute_result"
        },
        {
          "data": {
            "text/plain": [
              "<Figure size 1008x432 with 0 Axes>"
            ]
          },
          "metadata": {},
          "output_type": "display_data"
        },
        {
          "data": {
            "image/png": "[encoded data removed]",
            "text/plain": [
              "<Figure size 441.125x360 with 1 Axes>"
            ]
          },
          "metadata": {
            "needs_background": "light"
          },
          "output_type": "display_data"
        }
      ],
      "source": [
        "plt.figure(figsize=(14, 6))\n",
        "cmap = sns.cubehelix_palette(rot=-.2, as_cmap=True)\n",
        "sns.relplot(x='Phy_Damage', y='Hp', hue='Lane', size='Lane', data=df1, sizes=(50, 200), alpha = 0.5)\n",
        "plt.title(\"Physical Damage vs Health Points\")\n",
        "plt.xlabel(\"Physical Damage\")\n",
        "plt.ylabel(\"Health Points\")\n"
      ]
    },
    {
      "cell_type": "markdown",
      "metadata": {
        "id": "DfpiF_9Swnwb"
      },
      "source": [
        "## World Happiness Report using KDE plots\n",
        "The World Happiness Report is a landmark survey of the state of global happiness . The report continues to gain global recognition as governments, organizations and civil society increasingly use happiness indicators to inform their policy-making decisions."
      ]
    },
    {
      "cell_type": "code",
      "execution_count": null,
      "metadata": {
        "id": "daJTKrwIwnwb",
        "outputId": "5f949211-1b86-4b6b-f2bf-45691792bdee"
      },
      "outputs": [
        {
          "data": {
            "text/html": [
              "<div>\n",
              "<style scoped>\n",
              "    .dataframe tbody tr th:only-of-type {\n",
              "        vertical-align: middle;\n",
              "    }\n",
              "\n",
              "    .dataframe tbody tr th {\n",
              "        vertical-align: top;\n",
              "    }\n",
              "\n",
              "    .dataframe thead th {\n",
              "        text-align: right;\n",
              "    }\n",
              "</style>\n",
              "<table border=\"1\" class=\"dataframe\">\n",
              "  <thead>\n",
              "    <tr style=\"text-align: right;\">\n",
              "      <th></th>\n",
              "      <th>Country Name</th>\n",
              "      <th>Regional Indicator</th>\n",
              "      <th>Year</th>\n",
              "      <th>Life Ladder</th>\n",
              "      <th>Log GDP Per Capita</th>\n",
              "      <th>Social Support</th>\n",
              "      <th>Healthy Life Expectancy At Birth</th>\n",
              "      <th>Freedom To Make Life Choices</th>\n",
              "      <th>Generosity</th>\n",
              "      <th>Perceptions Of Corruption</th>\n",
              "      <th>Positive Affect</th>\n",
              "      <th>Negative Affect</th>\n",
              "      <th>Confidence In National Government</th>\n",
              "    </tr>\n",
              "  </thead>\n",
              "  <tbody>\n",
              "    <tr>\n",
              "      <th>0</th>\n",
              "      <td>Afghanistan</td>\n",
              "      <td>South Asia</td>\n",
              "      <td>2008</td>\n",
              "      <td>3.723590</td>\n",
              "      <td>7.350416</td>\n",
              "      <td>0.450662</td>\n",
              "      <td>50.500000</td>\n",
              "      <td>0.718114</td>\n",
              "      <td>0.167652</td>\n",
              "      <td>0.881686</td>\n",
              "      <td>0.414297</td>\n",
              "      <td>0.258195</td>\n",
              "      <td>0.612072</td>\n",
              "    </tr>\n",
              "    <tr>\n",
              "      <th>1</th>\n",
              "      <td>Afghanistan</td>\n",
              "      <td>South Asia</td>\n",
              "      <td>2009</td>\n",
              "      <td>4.401778</td>\n",
              "      <td>7.508646</td>\n",
              "      <td>0.552308</td>\n",
              "      <td>50.799999</td>\n",
              "      <td>0.678896</td>\n",
              "      <td>0.190809</td>\n",
              "      <td>0.850035</td>\n",
              "      <td>0.481421</td>\n",
              "      <td>0.237092</td>\n",
              "      <td>0.611545</td>\n",
              "    </tr>\n",
              "    <tr>\n",
              "      <th>2</th>\n",
              "      <td>Afghanistan</td>\n",
              "      <td>South Asia</td>\n",
              "      <td>2010</td>\n",
              "      <td>4.758381</td>\n",
              "      <td>7.613900</td>\n",
              "      <td>0.539075</td>\n",
              "      <td>51.099998</td>\n",
              "      <td>0.600127</td>\n",
              "      <td>0.121316</td>\n",
              "      <td>0.706766</td>\n",
              "      <td>0.516907</td>\n",
              "      <td>0.275324</td>\n",
              "      <td>0.299357</td>\n",
              "    </tr>\n",
              "    <tr>\n",
              "      <th>3</th>\n",
              "      <td>Afghanistan</td>\n",
              "      <td>South Asia</td>\n",
              "      <td>2011</td>\n",
              "      <td>3.831719</td>\n",
              "      <td>7.581259</td>\n",
              "      <td>0.521104</td>\n",
              "      <td>51.400002</td>\n",
              "      <td>0.495901</td>\n",
              "      <td>0.163571</td>\n",
              "      <td>0.731109</td>\n",
              "      <td>0.479835</td>\n",
              "      <td>0.267175</td>\n",
              "      <td>0.307386</td>\n",
              "    </tr>\n",
              "    <tr>\n",
              "      <th>4</th>\n",
              "      <td>Afghanistan</td>\n",
              "      <td>South Asia</td>\n",
              "      <td>2012</td>\n",
              "      <td>3.782938</td>\n",
              "      <td>7.660506</td>\n",
              "      <td>0.520637</td>\n",
              "      <td>51.700001</td>\n",
              "      <td>0.530935</td>\n",
              "      <td>0.237588</td>\n",
              "      <td>0.775620</td>\n",
              "      <td>0.613513</td>\n",
              "      <td>0.267919</td>\n",
              "      <td>0.435440</td>\n",
              "    </tr>\n",
              "  </tbody>\n",
              "</table>\n",
              "</div>"
            ],
            "text/plain": [
              "  Country Name Regional Indicator  Year  Life Ladder  Log GDP Per Capita  \\\n",
              "0  Afghanistan         South Asia  2008     3.723590            7.350416   \n",
              "1  Afghanistan         South Asia  2009     4.401778            7.508646   \n",
              "2  Afghanistan         South Asia  2010     4.758381            7.613900   \n",
              "3  Afghanistan         South Asia  2011     3.831719            7.581259   \n",
              "4  Afghanistan         South Asia  2012     3.782938            7.660506   \n",
              "\n",
              "   Social Support  Healthy Life Expectancy At Birth  \\\n",
              "0        0.450662                         50.500000   \n",
              "1        0.552308                         50.799999   \n",
              "2        0.539075                         51.099998   \n",
              "3        0.521104                         51.400002   \n",
              "4        0.520637                         51.700001   \n",
              "\n",
              "   Freedom To Make Life Choices  Generosity  Perceptions Of Corruption  \\\n",
              "0                      0.718114    0.167652                   0.881686   \n",
              "1                      0.678896    0.190809                   0.850035   \n",
              "2                      0.600127    0.121316                   0.706766   \n",
              "3                      0.495901    0.163571                   0.731109   \n",
              "4                      0.530935    0.237588                   0.775620   \n",
              "\n",
              "   Positive Affect  Negative Affect  Confidence In National Government  \n",
              "0         0.414297         0.258195                           0.612072  \n",
              "1         0.481421         0.237092                           0.611545  \n",
              "2         0.516907         0.275324                           0.299357  \n",
              "3         0.479835         0.267175                           0.307386  \n",
              "4         0.613513         0.267919                           0.435440  "
            ]
          },
          "execution_count": 13,
          "metadata": {},
          "output_type": "execute_result"
        }
      ],
      "source": [
        "df2 = pd.read_csv(\"World Happiness Report.csv\")\n",
        "df2.head()"
      ]
    },
    {
      "cell_type": "code",
      "execution_count": null,
      "metadata": {
        "id": "0xbCKtsGwnwb"
      },
      "outputs": [],
      "source": [
        "df2.isnull().sum()\n",
        "df2.dropna(inplace=True)"
      ]
    },
    {
      "cell_type": "code",
      "execution_count": null,
      "metadata": {
        "id": "SyAeQFSOwnwc",
        "outputId": "9c58e3e8-9951-48a6-d98e-c7e6aefd5ad1"
      },
      "outputs": [
        {
          "data": {
            "text/plain": [
              "Country Name                         0\n",
              "Regional Indicator                   0\n",
              "Year                                 0\n",
              "Life Ladder                          0\n",
              "Log GDP Per Capita                   0\n",
              "Social Support                       0\n",
              "Healthy Life Expectancy At Birth     0\n",
              "Freedom To Make Life Choices         0\n",
              "Generosity                           0\n",
              "Perceptions Of Corruption            0\n",
              "Positive Affect                      0\n",
              "Negative Affect                      0\n",
              "Confidence In National Government    0\n",
              "dtype: int64"
            ]
          },
          "execution_count": 15,
          "metadata": {},
          "output_type": "execute_result"
        }
      ],
      "source": [
        "df2.isnull().sum()"
      ]
    },
    {
      "cell_type": "code",
      "execution_count": null,
      "metadata": {
        "id": "IAsfYucXwnwc",
        "outputId": "4045083a-47d1-4cc7-91d1-f30d19b24199"
      },
      "outputs": [
        {
          "name": "stdout",
          "output_type": "stream",
          "text": [
            "<class 'pandas.core.frame.DataFrame'>\n",
            "Int64Index: 1683 entries, 0 to 2197\n",
            "Data columns (total 13 columns):\n",
            " #   Column                             Non-Null Count  Dtype  \n",
            "---  ------                             --------------  -----  \n",
            " 0   Country Name                       1683 non-null   object \n",
            " 1   Regional Indicator                 1683 non-null   object \n",
            " 2   Year                               1683 non-null   int64  \n",
            " 3   Life Ladder                        1683 non-null   float64\n",
            " 4   Log GDP Per Capita                 1683 non-null   float64\n",
            " 5   Social Support                     1683 non-null   float64\n",
            " 6   Healthy Life Expectancy At Birth   1683 non-null   float64\n",
            " 7   Freedom To Make Life Choices       1683 non-null   float64\n",
            " 8   Generosity                         1683 non-null   float64\n",
            " 9   Perceptions Of Corruption          1683 non-null   float64\n",
            " 10  Positive Affect                    1683 non-null   float64\n",
            " 11  Negative Affect                    1683 non-null   float64\n",
            " 12  Confidence In National Government  1683 non-null   float64\n",
            "dtypes: float64(10), int64(1), object(2)\n",
            "memory usage: 184.1+ KB\n"
          ]
        }
      ],
      "source": [
        "df2.info()"
      ]
    },
    {
      "cell_type": "markdown",
      "metadata": {
        "id": "HxAJIY_Ewnwc"
      },
      "source": [
        "A KDE plot is used to helps to identify any outliers or skewness in the data. The x-axis shows the range of possible happiness scores, and the y-axis shows the density of people's happiness scores in that range. The graph is split into different colors based on the region of the world, so you can see how happiness scores vary between different regions."
      ]
    },
    {
      "cell_type": "code",
      "execution_count": null,
      "metadata": {
        "id": "KDeI99kmwnwc",
        "outputId": "2672a45c-8524-431b-d224-48d97047329f"
      },
      "outputs": [
        {
          "data": {
            "image/png": "[encoded data removed]",
            "text/plain": [
              "<Figure size 1080x576 with 1 Axes>"
            ]
          },
          "metadata": {
            "needs_background": "light"
          },
          "output_type": "display_data"
        }
      ],
      "source": [
        "fig=plt.figure(figsize=(15,8))\n",
        "plt.title(\"Life Ladder distribution by Regional indicator\")\n",
        "sns.kdeplot(df2['Life Ladder'], fill=True,hue=df2['Regional Indicator'], shade=True, multiple='layer')\n",
        "plt.axvline(df2['Life Ladder'].mean(), c='black',ls='--')\n",
        "plt.text(x=df2['Life Ladder'].mean(),y=-0.01,s='Population mean', size=15)\n",
        "for s in ['left','right','top','bottom']:\n",
        "    plt.gca().spines[s].set_visible(False)"
      ]
    },
    {
      "cell_type": "markdown",
      "metadata": {
        "id": "Ruzy_VUSwnwd"
      },
      "source": [
        "## Spotify Daily Charts using Histogram\n",
        "\n",
        "This dataset contains information about the total streams of artist per released songs. The datasets contains features such as data of realease, position in the leaderboards, their unique track id, track name, artist, and the streams it received. "
      ]
    },
    {
      "cell_type": "code",
      "execution_count": null,
      "metadata": {
        "id": "sAoV96O5wnwd"
      },
      "outputs": [],
      "source": [
        "df3 = pd.read_csv(\"spotify_daily_charts.csv\")"
      ]
    },
    {
      "cell_type": "code",
      "execution_count": null,
      "metadata": {
        "id": "NJ4GN3Pewnwd",
        "outputId": "4cb6eec7-7ddd-4c58-811c-6af3e1aa9924"
      },
      "outputs": [
        {
          "data": {
            "text/plain": [
              "artist\n",
              "Ben&Ben             913820324\n",
              "Taylor Swift        567121184\n",
              "Ed Sheeran          563277361\n",
              "December Avenue     514362119\n",
              "LANY                495949117\n",
              "Moira Dela Torre    470145590\n",
              "BTS                 437258393\n",
              "Ariana Grande       406589773\n",
              "Zack Tabudlo        370307235\n",
              "Olivia Rodrigo      339587420\n",
              "Name: streams, dtype: int64"
            ]
          },
          "execution_count": 19,
          "metadata": {},
          "output_type": "execute_result"
        }
      ],
      "source": [
        "df3.groupby(['artist'])['streams'].sum().sort_values(ascending=False).head(10)"
      ]
    },
    {
      "cell_type": "code",
      "execution_count": null,
      "metadata": {
        "id": "eWxwWZEzwnwd",
        "outputId": "2dc92a31-a683-4b00-c447-b98b74221eb6"
      },
      "outputs": [
        {
          "name": "stdout",
          "output_type": "stream",
          "text": [
            "<class 'pandas.core.frame.DataFrame'>\n",
            "RangeIndex: 416000 entries, 0 to 415999\n",
            "Data columns (total 6 columns):\n",
            " #   Column      Non-Null Count   Dtype \n",
            "---  ------      --------------   ----- \n",
            " 0   date        416000 non-null  object\n",
            " 1   position    416000 non-null  int64 \n",
            " 2   track_id    416000 non-null  object\n",
            " 3   track_name  415990 non-null  object\n",
            " 4   artist      415990 non-null  object\n",
            " 5   streams     416000 non-null  int64 \n",
            "dtypes: int64(2), object(4)\n",
            "memory usage: 19.0+ MB\n"
          ]
        }
      ],
      "source": [
        "df3.info()"
      ]
    },
    {
      "cell_type": "code",
      "execution_count": null,
      "metadata": {
        "id": "NrwcQ4eiwnwd",
        "outputId": "580fd8fb-8a0f-4fe1-d978-c86c37c86971"
      },
      "outputs": [
        {
          "data": {
            "text/html": [
              "<div>\n",
              "<style scoped>\n",
              "    .dataframe tbody tr th:only-of-type {\n",
              "        vertical-align: middle;\n",
              "    }\n",
              "\n",
              "    .dataframe tbody tr th {\n",
              "        vertical-align: top;\n",
              "    }\n",
              "\n",
              "    .dataframe thead th {\n",
              "        text-align: right;\n",
              "    }\n",
              "</style>\n",
              "<table border=\"1\" class=\"dataframe\">\n",
              "  <thead>\n",
              "    <tr style=\"text-align: right;\">\n",
              "      <th></th>\n",
              "      <th>date</th>\n",
              "      <th>position</th>\n",
              "      <th>track_id</th>\n",
              "      <th>track_name</th>\n",
              "      <th>artist</th>\n",
              "      <th>streams</th>\n",
              "    </tr>\n",
              "  </thead>\n",
              "  <tbody>\n",
              "    <tr>\n",
              "      <th>0</th>\n",
              "      <td>2017-01-01</td>\n",
              "      <td>1</td>\n",
              "      <td>0kN8xEmgMW9mh7UmDYHlJP</td>\n",
              "      <td>Versace on the Floor</td>\n",
              "      <td>Bruno Mars</td>\n",
              "      <td>185236</td>\n",
              "    </tr>\n",
              "    <tr>\n",
              "      <th>1</th>\n",
              "      <td>2017-01-01</td>\n",
              "      <td>2</td>\n",
              "      <td>5uCax9HTNlzGybIStD3vDh</td>\n",
              "      <td>Say You Won't Let Go</td>\n",
              "      <td>James Arthur</td>\n",
              "      <td>180552</td>\n",
              "    </tr>\n",
              "    <tr>\n",
              "      <th>2</th>\n",
              "      <td>2017-01-01</td>\n",
              "      <td>3</td>\n",
              "      <td>7BKLCZ1jbUBVqRi2FVlTVw</td>\n",
              "      <td>Closer</td>\n",
              "      <td>The Chainsmokers</td>\n",
              "      <td>158720</td>\n",
              "    </tr>\n",
              "    <tr>\n",
              "      <th>3</th>\n",
              "      <td>2017-01-01</td>\n",
              "      <td>4</td>\n",
              "      <td>2rizacJSyD9S1IQUxUxnsK</td>\n",
              "      <td>All We Know</td>\n",
              "      <td>The Chainsmokers</td>\n",
              "      <td>130874</td>\n",
              "    </tr>\n",
              "    <tr>\n",
              "      <th>4</th>\n",
              "      <td>2017-01-01</td>\n",
              "      <td>5</td>\n",
              "      <td>5MFzQMkrl1FOOng9tq6R9r</td>\n",
              "      <td>Don't Wanna Know</td>\n",
              "      <td>Maroon 5</td>\n",
              "      <td>129656</td>\n",
              "    </tr>\n",
              "  </tbody>\n",
              "</table>\n",
              "</div>"
            ],
            "text/plain": [
              "         date  position                track_id            track_name  \\\n",
              "0  2017-01-01         1  0kN8xEmgMW9mh7UmDYHlJP  Versace on the Floor   \n",
              "1  2017-01-01         2  5uCax9HTNlzGybIStD3vDh  Say You Won't Let Go   \n",
              "2  2017-01-01         3  7BKLCZ1jbUBVqRi2FVlTVw                Closer   \n",
              "3  2017-01-01         4  2rizacJSyD9S1IQUxUxnsK           All We Know   \n",
              "4  2017-01-01         5  5MFzQMkrl1FOOng9tq6R9r      Don't Wanna Know   \n",
              "\n",
              "             artist  streams  \n",
              "0        Bruno Mars   185236  \n",
              "1      James Arthur   180552  \n",
              "2  The Chainsmokers   158720  \n",
              "3  The Chainsmokers   130874  \n",
              "4          Maroon 5   129656  "
            ]
          },
          "execution_count": 21,
          "metadata": {},
          "output_type": "execute_result"
        }
      ],
      "source": [
        "df3.head()"
      ]
    },
    {
      "cell_type": "markdown",
      "metadata": {
        "id": "9qMoTBBKwnwe"
      },
      "source": [
        "We used a histogram plot to determine the distribution of a numerical feature. We can see that the data is skewed to the left as not all songs would reach above 5 Million streams unless the song is really popular. The data suggest that most of the songs fall within 1 Million streams."
      ]
    },
    {
      "cell_type": "code",
      "execution_count": null,
      "metadata": {
        "id": "9rz7lzMNwnwe",
        "outputId": "4c3952a0-32d4-40e9-d680-a6c8499273b0"
      },
      "outputs": [
        {
          "name": "stderr",
          "output_type": "stream",
          "text": [
            "c:\\Users\\cyrus\\AppData\\Local\\Programs\\Python\\Python38\\lib\\site-packages\\seaborn\\distributions.py:2619: FutureWarning: `distplot` is a deprecated function and will be removed in a future version. Please adapt your code to use either `displot` (a figure-level function with similar flexibility) or `histplot` (an axes-level function for histograms).\n",
            "  warnings.warn(msg, FutureWarning)\n"
          ]
        },
        {
          "data": {
            "image/png": "[encoded data removed]",
            "text/plain": [
              "<Figure size 864x432 with 1 Axes>"
            ]
          },
          "metadata": {
            "needs_background": "light"
          },
          "output_type": "display_data"
        }
      ],
      "source": [
        "# create countplot for artist in df3\n",
        "plt.figure(figsize=(12, 6))\n",
        "sns.distplot(df3['streams'], kde=False, bins=50)\n",
        "plt.title(\"Distribution of Streams\")\n",
        "plt.xlabel(\"Streams\")\n",
        "plt.ylabel(\"Frequency\")\n"
      ]
    },
    {
      "cell_type": "markdown",
      "metadata": {
        "id": "mNM9b92ownwe"
      },
      "source": [
        "## Iris Flower Dataset using Swarplots\n",
        "\n",
        "This dataset contains three species: Setosa, Vericolor, and Virginica. These 3 species are measured with features such as their Sepal Length, Sepal Width, Petal Length, Petal Width. "
      ]
    },
    {
      "cell_type": "code",
      "execution_count": null,
      "metadata": {
        "id": "sxuVi47swnwe",
        "outputId": "20b1c3d8-5bd3-4f5b-cb6b-dd92178ad3d7"
      },
      "outputs": [
        {
          "data": {
            "text/html": [
              "<div>\n",
              "<style scoped>\n",
              "    .dataframe tbody tr th:only-of-type {\n",
              "        vertical-align: middle;\n",
              "    }\n",
              "\n",
              "    .dataframe tbody tr th {\n",
              "        vertical-align: top;\n",
              "    }\n",
              "\n",
              "    .dataframe thead th {\n",
              "        text-align: right;\n",
              "    }\n",
              "</style>\n",
              "<table border=\"1\" class=\"dataframe\">\n",
              "  <thead>\n",
              "    <tr style=\"text-align: right;\">\n",
              "      <th></th>\n",
              "      <th>Id</th>\n",
              "      <th>SepalLengthCm</th>\n",
              "      <th>SepalWidthCm</th>\n",
              "      <th>PetalLengthCm</th>\n",
              "      <th>PetalWidthCm</th>\n",
              "      <th>Species</th>\n",
              "    </tr>\n",
              "  </thead>\n",
              "  <tbody>\n",
              "    <tr>\n",
              "      <th>0</th>\n",
              "      <td>1</td>\n",
              "      <td>5.1</td>\n",
              "      <td>3.5</td>\n",
              "      <td>1.4</td>\n",
              "      <td>0.2</td>\n",
              "      <td>Iris-setosa</td>\n",
              "    </tr>\n",
              "    <tr>\n",
              "      <th>1</th>\n",
              "      <td>2</td>\n",
              "      <td>4.9</td>\n",
              "      <td>3.0</td>\n",
              "      <td>1.4</td>\n",
              "      <td>0.2</td>\n",
              "      <td>Iris-setosa</td>\n",
              "    </tr>\n",
              "    <tr>\n",
              "      <th>2</th>\n",
              "      <td>3</td>\n",
              "      <td>4.7</td>\n",
              "      <td>3.2</td>\n",
              "      <td>1.3</td>\n",
              "      <td>0.2</td>\n",
              "      <td>Iris-setosa</td>\n",
              "    </tr>\n",
              "    <tr>\n",
              "      <th>3</th>\n",
              "      <td>4</td>\n",
              "      <td>4.6</td>\n",
              "      <td>3.1</td>\n",
              "      <td>1.5</td>\n",
              "      <td>0.2</td>\n",
              "      <td>Iris-setosa</td>\n",
              "    </tr>\n",
              "    <tr>\n",
              "      <th>4</th>\n",
              "      <td>5</td>\n",
              "      <td>5.0</td>\n",
              "      <td>3.6</td>\n",
              "      <td>1.4</td>\n",
              "      <td>0.2</td>\n",
              "      <td>Iris-setosa</td>\n",
              "    </tr>\n",
              "  </tbody>\n",
              "</table>\n",
              "</div>"
            ],
            "text/plain": [
              "   Id  SepalLengthCm  SepalWidthCm  PetalLengthCm  PetalWidthCm      Species\n",
              "0   1            5.1           3.5            1.4           0.2  Iris-setosa\n",
              "1   2            4.9           3.0            1.4           0.2  Iris-setosa\n",
              "2   3            4.7           3.2            1.3           0.2  Iris-setosa\n",
              "3   4            4.6           3.1            1.5           0.2  Iris-setosa\n",
              "4   5            5.0           3.6            1.4           0.2  Iris-setosa"
            ]
          },
          "execution_count": 23,
          "metadata": {},
          "output_type": "execute_result"
        }
      ],
      "source": [
        "df4 = pd.read_csv(\"Iris.csv\")\n",
        "df4.head()"
      ]
    },
    {
      "cell_type": "code",
      "execution_count": null,
      "metadata": {
        "id": "ofn7OjwHwnwe",
        "outputId": "830b4a41-d862-42f9-91a1-838ea46ad433"
      },
      "outputs": [
        {
          "data": {
            "text/plain": [
              "Iris-setosa        50\n",
              "Iris-versicolor    50\n",
              "Iris-virginica     50\n",
              "Name: Species, dtype: int64"
            ]
          },
          "execution_count": 25,
          "metadata": {},
          "output_type": "execute_result"
        }
      ],
      "source": [
        "df4['Species'].value_counts()"
      ]
    },
    {
      "cell_type": "markdown",
      "metadata": {
        "id": "oj0Q6dOjwnwe"
      },
      "source": [
        "Swarmplots are scatter plots. In swarmplots, we seperate classes into 3 columns and will be our x-axis. The data is then plotted depending on the y-axis, in our case, the Petal Length. This way, we can easily determine the outliers in the dataset. "
      ]
    },
    {
      "cell_type": "code",
      "execution_count": null,
      "metadata": {
        "id": "TGqkaaA2wnwf",
        "outputId": "639c45ab-48c7-4e88-a7ee-7972a3686840"
      },
      "outputs": [
        {
          "data": {
            "text/plain": [
              "Text(0, 0.5, 'Petal Length (cm)')"
            ]
          },
          "execution_count": 24,
          "metadata": {},
          "output_type": "execute_result"
        },
        {
          "data": {
            "image/png": "[encoded data removed]",
            "text/plain": [
              "<Figure size 720x504 with 1 Axes>"
            ]
          },
          "metadata": {},
          "output_type": "display_data"
        }
      ],
      "source": [
        "sns.set(style=\"whitegrid\")\n",
        "fig=plt.gcf()\n",
        "fig.set_size_inches(10,7)\n",
        "fig = sns.swarmplot(x=\"Species\", y=\"PetalLengthCm\", data=df4)\n",
        "plt.title(\"Petal Length Distribution by Species\")\n",
        "plt.xlabel(\"Species\")\n",
        "plt.ylabel(\"Petal Length (cm)\")"
      ]
    },
    {
      "cell_type": "code",
      "execution_count": null,
      "metadata": {
        "id": "K-kIhXe_wnwf"
      },
      "outputs": [],
      "source": []
    }
  ],
  "metadata": {
    "kernelspec": {
      "display_name": "Python 3",
      "language": "python",
      "name": "python3"
    },
    "language_info": {
      "codemirror_mode": {
        "name": "ipython",
        "version": 3
      },
      "file_extension": ".py",
      "mimetype": "text/x-python",
      "name": "python",
      "nbconvert_exporter": "python",
      "pygments_lexer": "ipython3",
      "version": "3.8.8"
    },
    "colab": {
      "provenance": []
    }
  },
  "nbformat": 4,
  "nbformat_minor": 0
}
